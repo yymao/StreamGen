{
 "cells": [
  {
   "cell_type": "markdown",
   "metadata": {},
   "source": [
    "Jupyter notebook by Adriana Dropulic and Zeineb Mezghanni\n",
    "# StreamGen: Getting Started\n",
    "Welcome to `StreamGen` v1! In this tutorial, we load a merger tree from `SatGen`, a semi-analytic model of subhalo evolution within a host halo, and use `StreamGen` identify which satellites remain intact, which form shells, and which evolve into streams. \n",
    "\n",
    "### Prerequisites:\n",
    "- Ensure that both SatGen and StreamGen are installed and in the same directory.\n",
    "- If the directories differ, adjust the paths accordingly in the `StreamGen` python scripts.\n",
    "\n",
    "### References:\n",
    "For more detailed information, please refer to the following papers (link them accordingly):\n",
    "- [SatGen Paper](https://academic.oup.com/mnras/article/502/1/621/6066532?login=false)\n",
    "- [StreamGen Paper]\n",
    "\n",
    "First, we'll load the `load_galaxy` module to create a Galaxy object:\n",
    "This object will hold all the properties of the `SatGen` galaxy, allowing us to analyze its attributes. "
   ]
  },
  {
   "cell_type": "code",
   "execution_count": null,
   "metadata": {},
   "outputs": [],
   "source": [
    "from StreamGen import load_galaxy"
   ]
  },
  {
   "cell_type": "markdown",
   "metadata": {},
   "source": [
    "Next, we create a Galaxy object from the `SatGen` merger tree. "
   ]
  },
  {
   "cell_type": "code",
   "execution_count": null,
   "metadata": {},
   "outputs": [],
   "source": [
    "path_to_SatGen_tree = '.'\n",
    "SatGen_tree_name = 'tree677_lgM11.61'\n",
    "galaxy = load_galaxy.Galaxy(datadir= path_to_SatGen_tree, tree_file = SatGen_tree_name, disk_fraction = 0.05, flattening=25., stellar_mass_floor=5e5)"
   ]
  },
  {
   "cell_type": "markdown",
   "metadata": {},
   "source": [
    "Note that all the attributes of the Galaxy object are defined in the `load_galaxy.py` file. The following block of code defines the attributes needed for either `StreamGen` or for subsequent analysis. \n",
    "\n",
    "A few definitions:\n",
    "\n",
    "- `num_satellites`: Total number of satellites being modeled.\n",
    "- `num_surviving_satellites`: Number of satellites that survive (based on stellar mass and other criteria).\n",
    "- `num_snapshots`: Number of snapshots in the simulation (i.e., different times/redshifts)."
   ]
  },
  {
   "cell_type": "code",
   "execution_count": null,
   "metadata": {},
   "outputs": [],
   "source": [
    "#print(\"Attributes of the Galaxy object:\", list(vars(galaxy).keys()))"
   ]
  },
  {
   "cell_type": "code",
   "execution_count": null,
   "metadata": {
    "jupyter": {
     "source_hidden": true
    }
   },
   "outputs": [],
   "source": [
    "# Attributes are all defined in load_galaxy.py\n",
    "mapped_attributes = [\n",
    "    'mass_lost_alls',  # List of mass lost fractions for each satellite; shape: (num_satellites,)\n",
    "    'rps',  # List of radial distances at pericenters for each satellite; shape: (num_satellites,)\n",
    "    'rh_halfs',  # List of half-mass radii for each satellite; shape: (num_satellites,)\n",
    "    'mass_ratios',  # List of final stellar mass to halo virial mass ratios for each satellite; shape: (num_satellites,)\n",
    "    'rho_bars',  # List of mean densities within the half-mass radius for each satellite; shape: (num_satellites,)\n",
    "    'ras',  # List of radial distances at apocenters for each satellite; shape: (num_satellites,)\n",
    "    'eccs',  # List of orbital eccentricities for each satellite; shape: (num_satellites,)\n",
    "    'sat_final_mstar',  # Final stellar masses of surviving satellites; shape: (num_surviving_satellites,)\n",
    "    'sat_final_mvir',  # Final virial masses of surviving satellites; shape: (num_surviving_satellites,)\n",
    "    'sat_final_rvir',  # Final virial radii of surviving satellites; shape: (num_surviving_satellites,)\n",
    "    'stellar_mass_lost_alls',  # List of stellar mass lost fractions for each satellite; shape: (num_satellites,)\n",
    "    'CosmicTime',  # Cosmic time at each snapshot in the simulation; shape: (num_snapshots,)\n",
    "    'allz_mstar_s',  # Stellar masses of surviving satellites at all redshifts; shape: (num_surviving_satellites, num_snapshots)\n",
    "    'allz_m_s',  # Total masses (stellar + dark matter) of surviving satellites at all redshifts; shape: (num_surviving_satellites, num_snapshots)\n",
    "    'sat_distances',  # List of distances for all satellites at all times; shape: (num_satellites, num_snapshots)\n",
    "    'pericenter_locs',  # Indices of pericenter locations for each satellite; shape: (num_satellites,)\n",
    "    'apocenter_locs',  # Indices of apocenter locations for each satellite; shape: (num_satellites,)\n",
    "    'coordinates_apo',  # Cylindrical coordinates of satellites at apocenters; shape: (num_satellites, 3)\n",
    "    'coordinates_peri',  # Cylindrical coordinates of satellites at pericenters; shape: (num_satellites, 3)\n",
    "    'velocities_apo',  # Velocities of satellites at apocenters; shape: (num_satellites, 3)\n",
    "    'all_apo',  # Values of apocenter distances for each satellite; shape: (num_satellites,)\n",
    "    'all_peri',  # Values of pericenter distances for each satellite; shape: (num_satellites,)\n",
    "    'num_sat_s',  # Indices of surviving satellites; shape: (num_surviving_satellites,)\n",
    "    'z',  # Redshift at each snapshot in the simulation; shape: (num_snapshots,)\n",
    "    'x',  # X-coordinates of surviving satellites at all times; shape: (num_surviving_satellites, num_snapshots)\n",
    "    'y',  # Y-coordinates of surviving satellites at all times; shape: (num_surviving_satellites, num_snapshots)\n",
    "    'idx_zaccs',  # Indices of accretion for each satellite; shape: (num_satellites,)\n",
    "    'coordinates_hold',  # Stored (cylindrical) coordinates of satellites over time; shape: (num_satellites, num_snapshots, 3)\n",
    "    'velocity_dispersion',  # Velocity dispersion of satellites at z=0; shape: (num_satellites,)\n",
    "    'velocities_hold',  # Stored velocities of satellites over time; shape: (num_satellites, num_snapshots, 3)\n",
    "    's001s',  # Specific quantity \"s001\" at z=0 for each satellite (possibly a model-specific parameter); shape: (num_satellites,)\n",
    "    'velocities_peri',  # Velocities of satellites at pericenters; shape: (num_satellites, 3)\n",
    "    'redshift'  # Redshift values; shape: (num_snapshots,)\n",
    "]\n"
   ]
  },
  {
   "cell_type": "markdown",
   "metadata": {},
   "source": [
    "Next, we create a dataframe (`substructure_df`) that holds the properties of the surviving satellites in the galaxy that `StreamGen` will need. In this version, the surviving satellites are within the host at z = 0 and have pericenter > 4 kpc. "
   ]
  },
  {
   "cell_type": "code",
   "execution_count": null,
   "metadata": {},
   "outputs": [],
   "source": [
    "substructure_df = galaxy.get_filtered_rows_as_dataframe(mapped_attributes)"
   ]
  },
  {
   "cell_type": "markdown",
   "metadata": {},
   "source": [
    "The heart of StreamGen consists of the code that performs the morphology metric assignment. \n",
    "`substructure_z0` contains the code that governs the substrucure assignment. \n",
    "Two notes: \n",
    "1. By default, in this version of `StreamGen`, the morphology assignment will occur at z=0. \n",
    "2. This code is setup to multiprocess when integrating sampled satellite particles and should use whatever resources you give it. \n",
    "You can of course change the multiprocessing configuration to suit your configuration. "
   ]
  },
  {
   "cell_type": "code",
   "execution_count": null,
   "metadata": {},
   "outputs": [],
   "source": [
    "from StreamGen import substructure_z0\n",
    "\n",
    "num_samples = 20 #!change to ~300 when using mpi on cluster to get accurate derivative quantites!\n",
    "subs = substructure_z0.Substructure(substructure_df, 'trial', galaxy, num_samples)\n",
    "start_idx = 0 #first satellite to process\n",
    "stop_idx = len(subs.df) #last satellite to process\n",
    "subs.classify_substructure(start_idx, stop_idx)"
   ]
  },
  {
   "cell_type": "code",
   "execution_count": null,
   "metadata": {},
   "outputs": [],
   "source": [
    "print(\"Attributes of the subs object:\", list(vars(subs).keys())) #defined in substructure_z0.py"
   ]
  },
  {
   "cell_type": "markdown",
   "metadata": {},
   "source": [
    "Now, to visualize the results: "
   ]
  },
  {
   "cell_type": "code",
   "execution_count": null,
   "metadata": {},
   "outputs": [],
   "source": [
    "import matplotlib.pyplot as plt\n",
    "import matplotlib\n",
    "import numpy as np\n",
    "from matplotlib.lines import Line2D\n",
    "\n",
    "matplotlib.rcParams.update({'font.family':'cmr10','font.size': 13})\n",
    "matplotlib.rcParams['axes.unicode_minus']=False\n",
    "matplotlib.rcParams['axes.labelsize']=15\n",
    "plt.rcParams['figure.dpi'] = 300\n",
    "plt.rcParams['mathtext.fontset'] = 'cm'\n",
    "plt.rcParams['mathtext.rm'] = 'serif'\n",
    "plt.rcParams['xtick.direction'] = 'in'\n",
    "plt.rcParams['ytick.direction'] = 'in'\n",
    "plt.rcParams['xtick.top'] = True\n",
    "plt.rcParams['ytick.right'] = True\n",
    "matplotlib.rcParams.update({\n",
    "        'text.usetex': False,\n",
    "        'font.family': 'stixgeneral',\n",
    "        'mathtext.fontset': 'stix',\n",
    "    })\n",
    "blue  = '#61A0AF'\n",
    "purple = '#A04095'\n",
    "orange = '#F18E55'\n",
    "fig, ax= plt.subplots(nrows = 1, ncols = 2, sharex=False , sharey=False,figsize=(10,5))\n",
    "# Loop over satellites in the galaxy\n",
    "for sub_i in range(len(subs.id_sat_stream)):\n",
    "    # If the satellite is intact\n",
    "    if subs.id_sat_stream[sub_i] == 0:\n",
    "        marker = 'o'\n",
    "        color = purple\n",
    "    # If the satellite is a stream\n",
    "    elif subs.id_sat_stream[sub_i] == 1:\n",
    "        marker = '*'\n",
    "        color = blue\n",
    "    # If the satellite is a shell\n",
    "    elif subs.id_sat_stream[sub_i] == 2:\n",
    "        marker = 'd'\n",
    "        color = orange\n",
    "    # Scatter plot the stream angle vs. the shell angle for all satellites\n",
    "    ax[0].scatter(np.rad2deg(subs.PE_list[sub_i]), np.rad2deg(subs.PL_list[sub_i]), marker = marker, color = color)\n",
    "    low_psiEL = -5\n",
    "    high_psiEL = 140\n",
    "    ax[0].plot( [low_psiEL,high_psiEL],[low_psiEL,high_psiEL] , color = 'black', linestyle = 'dashed', linewidth = 0.5, alpha = 0.5)\n",
    "    ax[0].set_xlim([low_psiEL,high_psiEL])\n",
    "    ax[0].set_ylim([low_psiEL,high_psiEL])\n",
    "    ax[0].set_xlabel(r'$\\Psi^1_E$ [deg]')\n",
    "    ax[0].set_ylabel(r'$\\Psi_L$ [deg]')\n",
    "\n",
    "    # Scatter plot the pericenter and apocenter for all satellites\n",
    "    ax[1].scatter(subs.peri_all_reintegrate[sub_i], subs.apo_all_reintegrate[sub_i], marker = marker, color = color)\n",
    "    ax[1].set_ylim([0,250])#200\n",
    "    ax[1].set_xlim([0,80])#50\n",
    "    ax[1].set_xlabel(r'$r_{\\mathrm{peri}}$ [kpc]')\n",
    "    ax[1].set_ylabel(r'$r_{\\mathrm{apo}}$ [kpc]')\n",
    "\n",
    "custom_lines = [Line2D([], [], color=purple, marker = 'o', linestyle = 'None'),\n",
    "                Line2D([], [], color=blue, marker = '*', linestyle = 'None'),\n",
    "                Line2D([], [], color=orange, marker = 'd', linestyle = 'None')]\n",
    "legend = ax[0].legend(custom_lines, ['intact','stream','shell'], ncol = 1,  loc = 'upper right',prop={'size': 11})\n",
    "legend = ax[1].legend(custom_lines, ['intact','stream','shell'], ncol = 1,  loc = 'upper right',prop={'size': 11})\n"
   ]
  },
  {
   "cell_type": "code",
   "execution_count": null,
   "metadata": {},
   "outputs": [],
   "source": []
  }
 ],
 "metadata": {
  "anaconda-cloud": {},
  "kernelspec": {
   "display_name": "Python (satgen)",
   "language": "python",
   "name": "python_satgen"
  },
  "language_info": {
   "codemirror_mode": {
    "name": "ipython",
    "version": 3
   },
   "file_extension": ".py",
   "mimetype": "text/x-python",
   "name": "python",
   "nbconvert_exporter": "python",
   "pygments_lexer": "ipython3",
   "version": "3.13.1"
  }
 },
 "nbformat": 4,
 "nbformat_minor": 4
}
